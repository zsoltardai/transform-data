{
 "cells": [
  {
   "cell_type": "markdown",
   "source": [
    "# Processing Religion Data"
   ],
   "metadata": {
    "collapsed": false
   },
   "id": "e3a0ea917c371947"
  },
  {
   "cell_type": "code",
   "execution_count": 70,
   "outputs": [],
   "source": [
    "from typing import Iterator\n",
    "import pandas as pd\n",
    "import json\n",
    "\n",
    "filepath: str = 'out/counties.json'\n",
    "\n",
    "file = open(filepath, 'r', encoding='utf-8')\n",
    "\n",
    "counties: list[dict[str, any]] = json.load(file)\n",
    "\n",
    "file.close()\n",
    "\n",
    "filepath = 'assets/religion/religion.csv'\n",
    "\n",
    "df: pd.DataFrame = pd.read_csv(\n",
    "    filepath,\n",
    "    delimiter=';',\n",
    "    keep_default_na=True,\n",
    "    dtype={\n",
    "        'OBS_VALUE': 'Int64',\n",
    "        'TEL_SZ_ADAT': 'category',\n",
    "        'TERUL_GEO5': 'string',\n",
    "        'TIME_PERIOD': 'Int64',\n",
    "    },\n",
    "    usecols=[\n",
    "        'OBS_VALUE',\n",
    "        'TEL_SZ_ADAT',\n",
    "        'TERUL_GEO5',\n",
    "        'TIME_PERIOD',\n",
    "    ],\n",
    ")\n",
    "\n",
    "df['OBS_VALUE'].fillna(0, inplace=True)\n",
    "\n",
    "# renaming columns\n",
    "df = df.rename(\n",
    "    columns={\n",
    "        'TERUL_GEO5': 'id',\n",
    "        'TEL_SZ_ADAT': 'religion',\n",
    "        'TIME_PERIOD': 'year',\n",
    "        'OBS_VALUE': 'value',\n",
    "    },\n",
    ")\n",
    "\n",
    "# defining more human readable categories\n",
    "RELIGION_CATEGORIES: dict[str, str] = {\n",
    "    'RE_C': 'catholic',\n",
    "    'RE_GC': 'greek_catholic',\n",
    "    'RE_RC': 'roman_catholic',\n",
    "    'RE_CA': 'calvinist',\n",
    "    'RE_LU': 'lutheran',\n",
    "    'RE_CD': 'other_christian',\n",
    "    'RE_OC': 'orthodox_christian',\n",
    "    'RE_J': 'jewish',\n",
    "    'RE_NOT': 'atheist',\n",
    "    'RE_OCD': 'other',\n",
    "}\n",
    "\n",
    "# swiping the original categories for new ones\n",
    "df['religion'] = df['religion'].map(lambda x: RELIGION_CATEGORIES[x])\n",
    "\n",
    "\n",
    "def get_county_id(district_id: str) -> str:\n",
    "    for county in counties: \n",
    "        if district_id in county['ids']:\n",
    "            return county['id']\n",
    "    return ''\n",
    "\n",
    "df['county id'] = df['id'].map(get_county_id)\n",
    "\n",
    "        \n",
    "        \n",
    "def create_data_frame_by_year() -> Iterator[pd.DataFrame]:\n",
    "    for year in [2011, 2022]:\n",
    "        df_year = pd.DataFrame({'id': []})\n",
    "        \n",
    "        for religion in RELIGION_CATEGORIES.values():\n",
    "            df_year[religion] = []\n",
    "        \n",
    "        for upcoming_id in pd.unique(df['id']):\n",
    "            df_upcoming = df[(df['id'] == upcoming_id) & (df['year'] == year)]\n",
    "            \n",
    "            row = {'id': upcoming_id}\n",
    "            \n",
    "            for religion in RELIGION_CATEGORIES.values():\n",
    "                row[religion] = max(df_upcoming[df_upcoming['religion'] == religion]['value'])\n",
    "            \n",
    "            df_year.loc[len(df_year.index)] = row\n",
    "            \n",
    "        yield df_year\n",
    "\n",
    "df_2011, df_2022 = tuple(create_data_frame_by_year())\n",
    "\n",
    "df_2011.to_json('out/religion_2011.json', orient='records', indent=4, index=False)\n",
    "\n",
    "df_2022.to_json('out/religion_2022.json', orient='records', indent=4, index=False)\n"
   ],
   "metadata": {
    "collapsed": false,
    "ExecuteTime": {
     "end_time": "2023-12-11T20:26:31.737804Z",
     "start_time": "2023-12-11T20:26:30.148802Z"
    }
   },
   "id": "50f4002c8e156b8"
  },
  {
   "cell_type": "code",
   "execution_count": null,
   "outputs": [],
   "source": [],
   "metadata": {
    "collapsed": false
   },
   "id": "2f125718562c5f5a"
  }
 ],
 "metadata": {
  "kernelspec": {
   "display_name": "Python 3",
   "language": "python",
   "name": "python3"
  },
  "language_info": {
   "codemirror_mode": {
    "name": "ipython",
    "version": 2
   },
   "file_extension": ".py",
   "mimetype": "text/x-python",
   "name": "python",
   "nbconvert_exporter": "python",
   "pygments_lexer": "ipython2",
   "version": "2.7.6"
  }
 },
 "nbformat": 4,
 "nbformat_minor": 5
}
